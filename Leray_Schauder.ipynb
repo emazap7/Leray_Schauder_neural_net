{
 "cells": [
  {
   "cell_type": "code",
   "execution_count": null,
   "id": "1cb5aca5",
   "metadata": {},
   "outputs": [],
   "source": [
    "import numpy as np\n",
    "import torch\n",
    "import scipy\n",
    "import itertools\n",
    "from scipy.special import binom\n",
    "from torch import nn"
   ]
  },
  {
   "cell_type": "code",
   "execution_count": null,
   "id": "90fdd9f8",
   "metadata": {},
   "outputs": [],
   "source": []
  },
  {
   "cell_type": "code",
   "execution_count": null,
   "id": "ee35a029",
   "metadata": {},
   "outputs": [],
   "source": [
    "class basis(nn.Module):\n",
    "    def __init__(self,dim_in,dim_out,n=8,shapes=[16,16],NL=nn.ELU):\n",
    "        super(basis, self).__init__()\n",
    "        self.dim_in = dim_in\n",
    "        self.dim_out = dim_out\n",
    "        self.n = n\n",
    "        self.shapes = shapes\n",
    "        self.first = nn.Linear(dim_in,shapes[0])\n",
    "        self.basis = nn.ModuleList(\n",
    "                        nn.ModuleList(\n",
    "                            nn.Linear(shapes[k],shapes[k+1])\\\n",
    "                            for k in range(len(shapes)-1))\\\n",
    "                            for i in range(n))\n",
    "        self.last = nn.Linear(shapes[-1], dim_out)\n",
    "        self.NL = NL(inplace=True) \n",
    "    def generate_basis(self):\n",
    "        return self.basis\n",
    "    \n",
    "    def forward(self,i,y):\n",
    "        y = self.NL(self.first.forward(y))\n",
    "        for layer in self.basis[i]:\n",
    "            y = self.NL(layer.forward(y)) \n",
    "        y = self.last.forward(y)\n",
    "        return y\n",
    "    \n",
    "    def basis_size(self):\n",
    "        return self.n"
   ]
  },
  {
   "cell_type": "code",
   "execution_count": null,
   "id": "5f23cddb",
   "metadata": {},
   "outputs": [],
   "source": [
    "A = basis(3,5)"
   ]
  },
  {
   "cell_type": "code",
   "execution_count": null,
   "id": "8c8101b7",
   "metadata": {},
   "outputs": [],
   "source": [
    "B = A.generate_basis()"
   ]
  },
  {
   "cell_type": "code",
   "execution_count": null,
   "id": "f3407f2d",
   "metadata": {},
   "outputs": [],
   "source": []
  },
  {
   "cell_type": "code",
   "execution_count": null,
   "id": "900d28ab",
   "metadata": {},
   "outputs": [],
   "source": [
    "len(B)"
   ]
  },
  {
   "cell_type": "code",
   "execution_count": null,
   "id": "27630a4c",
   "metadata": {},
   "outputs": [],
   "source": [
    "A = basis(3,5)"
   ]
  },
  {
   "cell_type": "code",
   "execution_count": null,
   "id": "00861aec",
   "metadata": {},
   "outputs": [],
   "source": [
    "A.forward(7,torch.rand(3))"
   ]
  },
  {
   "cell_type": "code",
   "execution_count": null,
   "id": "aeed083f",
   "metadata": {},
   "outputs": [],
   "source": []
  },
  {
   "cell_type": "code",
   "execution_count": null,
   "id": "212185e0",
   "metadata": {},
   "outputs": [],
   "source": [
    "from source.integrators import MonteCarlo"
   ]
  },
  {
   "cell_type": "code",
   "execution_count": null,
   "id": "bd09bca1",
   "metadata": {},
   "outputs": [],
   "source": [
    "mc = MonteCarlo()"
   ]
  },
  {
   "cell_type": "code",
   "execution_count": null,
   "id": "2ac49ff4",
   "metadata": {},
   "outputs": [],
   "source": [
    "class F_NN(nn.Module):\n",
    "    def __init__(self,in_dim,out_dim,shapes,NL=nn.ELU):\n",
    "        super(F_NN, self).__init__()\n",
    "        self.in_dim = in_dim\n",
    "        self.out_dim = out_dim\n",
    "        self.n_layers = len(shapes) - 1\n",
    "        self.shapes = shapes\n",
    "        self.first = nn.Linear(in_dim,shapes[0])\n",
    "        self.layers = nn.ModuleList([nn.Linear(shapes[i],shapes[i+1]) for i in range(self.n_layers)])\n",
    "        self.last = nn.Linear(shapes[-1], out_dim)\n",
    "        self.NL = NL(inplace=True) \n",
    "        \n",
    "    def forward(self, y):\n",
    "        \n",
    "        y_in = y\n",
    "        y = self.NL(self.first.forward(y))\n",
    "        for layer in self.layers:\n",
    "            y = self.NL(layer.forward(y))   \n",
    "        y = self.last.forward(y)\n",
    "        \n",
    "        return y"
   ]
  },
  {
   "cell_type": "code",
   "execution_count": null,
   "id": "3a9fa1d0",
   "metadata": {},
   "outputs": [],
   "source": []
  },
  {
   "cell_type": "code",
   "execution_count": null,
   "id": "5a388b2b",
   "metadata": {},
   "outputs": [],
   "source": [
    "class Leray_Schauder(nn.Module):\n",
    "    def __init__(self,basis,epsilon=.1,dim=1,modes=2,N=1000,p=2,batch_size=8):\n",
    "        super(Leray_Schauder, self).__init__()\n",
    "        self.basis = basis\n",
    "        self.epsilon = epsilon\n",
    "        self.dim = dim\n",
    "        self.modes = modes\n",
    "        self.N = N\n",
    "        self.p = p\n",
    "        self.n = self.basis.basis_size()\n",
    "        self.batch_size = batch_size\n",
    "        \n",
    "    def norm(self,func):\n",
    "        integral = mc.integrate(\n",
    "            fn= lambda s: func(s)**self.p,\n",
    "            dim= self.dim,\n",
    "            N= self.N,\n",
    "            out_dim = -2,\n",
    "            )\n",
    "        return torch.pow(integral,1/self.p)\n",
    "        \n",
    "    def mu_i(self,func,i):\n",
    "        norm_ = torch.norm(self.norm(lambda s: func(s)-self.basis(i,s)),p=self.p)\n",
    "        return norm_ if norm_<= self.epsilon else 0.\n",
    "        \n",
    "    def proj(self,func,x):\n",
    "        out = torch.zeros(self.modes)\n",
    "        normalization = 1e-7\n",
    "        for i in range(self.n):\n",
    "            mui = self.mu_i(func,i)\n",
    "            out += mui*self.basis.forward(i,x)\n",
    "            normalization += mui\n",
    "        out /= normalization\n",
    "        return out\n",
    "    \n",
    "    def proj_coeff(self,func):\n",
    "        out = torch.tensor([])\n",
    "        normalization = 1e-7\n",
    "        for i in range(self.n):\n",
    "            mui = self.mu_i(func,i)\n",
    "            out = torch.cat([out,torch.tensor([mui])])\n",
    "            normalization += mui\n",
    "        out /= normalization\n",
    "        return out\n",
    "    \n",
    "    def basis_eval(self,i,x):\n",
    "        return self.basis.forward(i,x)\n",
    "    \n",
    "    def return_basis(self):\n",
    "        return self.basis\n",
    "    \n",
    "    def return_modes(self):\n",
    "        return self.modes"
   ]
  },
  {
   "cell_type": "code",
   "execution_count": null,
   "id": "822719de",
   "metadata": {},
   "outputs": [],
   "source": [
    "func = F_NN(3,5,[16,16])"
   ]
  },
  {
   "cell_type": "code",
   "execution_count": null,
   "id": "60c9f713",
   "metadata": {},
   "outputs": [],
   "source": [
    "LS = Leray_Schauder(A,dim=3,epsilon=2,modes=5)"
   ]
  },
  {
   "cell_type": "code",
   "execution_count": null,
   "id": "8acb1f13",
   "metadata": {},
   "outputs": [],
   "source": [
    "LS.mu_i(func,2)"
   ]
  },
  {
   "cell_type": "code",
   "execution_count": null,
   "id": "a88bd895",
   "metadata": {},
   "outputs": [],
   "source": [
    "LS.proj(func,torch.rand(3))"
   ]
  },
  {
   "cell_type": "code",
   "execution_count": null,
   "id": "c0efcbeb",
   "metadata": {
    "scrolled": true
   },
   "outputs": [],
   "source": [
    "LS.proj_coeff(func)"
   ]
  },
  {
   "cell_type": "code",
   "execution_count": null,
   "id": "a747f3c3",
   "metadata": {},
   "outputs": [],
   "source": []
  },
  {
   "cell_type": "code",
   "execution_count": null,
   "id": "c0d6a349",
   "metadata": {},
   "outputs": [],
   "source": []
  },
  {
   "cell_type": "code",
   "execution_count": null,
   "id": "646f09fc",
   "metadata": {},
   "outputs": [],
   "source": [
    "spatial_domain_xy = torch.meshgrid([torch.linspace(0,1,10) for i in range(2)])\n",
    "        \n",
    "x_space = spatial_domain_xy[0].flatten().unsqueeze(-1)\n",
    "y_space = spatial_domain_xy[1].flatten().unsqueeze(-1)\n",
    "\n",
    "spatial_domain = torch.cat([x_space,y_space],-1)"
   ]
  },
  {
   "cell_type": "code",
   "execution_count": null,
   "id": "14c3314b",
   "metadata": {},
   "outputs": [],
   "source": [
    "spatial_domain.shape"
   ]
  },
  {
   "cell_type": "code",
   "execution_count": null,
   "id": "72aa1853",
   "metadata": {},
   "outputs": [],
   "source": []
  },
  {
   "cell_type": "code",
   "execution_count": null,
   "id": "e08ef5df",
   "metadata": {},
   "outputs": [],
   "source": []
  },
  {
   "cell_type": "code",
   "execution_count": null,
   "id": "70ec1401",
   "metadata": {},
   "outputs": [],
   "source": [
    "class Leray_Schauder_model(nn.Module):\n",
    "    def __init__(self,LS_map,proj_NN):\n",
    "        super(Leray_Schauder_model, self).__init__()\n",
    "        self.LS_map = LS_map\n",
    "        self.proj_NN = proj_NN\n",
    "        self.n = LS_map.return_basis().basis_size()\n",
    "        self.basis = LS_map.return_basis()\n",
    "       \n",
    "    def recompose(self,coeff):\n",
    "        func = lambda s: torch.cat([coeff[i]*self.LS_map.basis_eval(i,s).view(1,self.LS_map.return_modes())\\\n",
    "                                          for i in range(self.basis.basis_size())]).sum(dim=-2)\n",
    "        return func\n",
    "    \n",
    "    def projected_function(self,func):\n",
    "        projection_coeff = self.LS_map.proj_coeff(func)\n",
    "        out = self.proj_NN.forward(projection_coeff)\n",
    "        out_func = self.recompose(out)\n",
    "        \n",
    "        return out_func"
   ]
  },
  {
   "cell_type": "code",
   "execution_count": null,
   "id": "98480d8b",
   "metadata": {},
   "outputs": [],
   "source": []
  },
  {
   "cell_type": "code",
   "execution_count": null,
   "id": "876f44bd",
   "metadata": {},
   "outputs": [],
   "source": [
    "NN = F_NN(8,8,[16,16])"
   ]
  },
  {
   "cell_type": "code",
   "execution_count": null,
   "id": "c98bc26a",
   "metadata": {},
   "outputs": [],
   "source": [
    "func = F_NN(3,5,[16,16])"
   ]
  },
  {
   "cell_type": "code",
   "execution_count": null,
   "id": "1dc1c4a4",
   "metadata": {},
   "outputs": [],
   "source": [
    "model = Leray_Schauder_model(LS,NN)"
   ]
  },
  {
   "cell_type": "code",
   "execution_count": null,
   "id": "d794323b",
   "metadata": {},
   "outputs": [],
   "source": [
    "out_func = model.projected_function(func)"
   ]
  },
  {
   "cell_type": "code",
   "execution_count": null,
   "id": "c7932933",
   "metadata": {},
   "outputs": [],
   "source": [
    "out_func(torch.rand(3)).shape"
   ]
  },
  {
   "cell_type": "code",
   "execution_count": null,
   "id": "16d63242",
   "metadata": {},
   "outputs": [],
   "source": [
    "out_func(torch.rand(3))"
   ]
  },
  {
   "cell_type": "code",
   "execution_count": null,
   "id": "4198a0b5",
   "metadata": {},
   "outputs": [],
   "source": []
  },
  {
   "cell_type": "code",
   "execution_count": null,
   "id": "9c192b7d",
   "metadata": {},
   "outputs": [],
   "source": []
  }
 ],
 "metadata": {
  "kernelspec": {
   "display_name": "Python 3",
   "language": "python",
   "name": "python3"
  },
  "language_info": {
   "codemirror_mode": {
    "name": "ipython",
    "version": 3
   },
   "file_extension": ".py",
   "mimetype": "text/x-python",
   "name": "python",
   "nbconvert_exporter": "python",
   "pygments_lexer": "ipython3",
   "version": "3.8.8"
  },
  "toc": {
   "base_numbering": 1,
   "nav_menu": {},
   "number_sections": true,
   "sideBar": true,
   "skip_h1_title": false,
   "title_cell": "Table of Contents",
   "title_sidebar": "Contents",
   "toc_cell": false,
   "toc_position": {},
   "toc_section_display": true,
   "toc_window_display": false
  }
 },
 "nbformat": 4,
 "nbformat_minor": 5
}
