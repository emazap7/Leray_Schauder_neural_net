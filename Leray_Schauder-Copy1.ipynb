{
 "cells": [
  {
   "cell_type": "code",
   "execution_count": null,
   "id": "582ea98d",
   "metadata": {},
   "outputs": [],
   "source": [
    "import numpy as np\n",
    "import torch\n",
    "import scipy\n",
    "import itertools\n",
    "from scipy.special import binom\n",
    "from torch import nn"
   ]
  },
  {
   "cell_type": "code",
   "execution_count": null,
   "id": "89c1976d",
   "metadata": {},
   "outputs": [],
   "source": []
  },
  {
   "cell_type": "code",
   "execution_count": null,
   "id": "f3d7b512",
   "metadata": {},
   "outputs": [],
   "source": [
    "class basis(nn.Module):\n",
    "    def __init__(self,dim_in,dim_out,n=8,shapes=[16,16],NL=nn.ELU,batch_size=8):\n",
    "        super(basis, self).__init__()\n",
    "        self.dim_in = dim_in\n",
    "        self.dim_out = dim_out\n",
    "        self.n = n\n",
    "        self.shapes = shapes\n",
    "        self.first = nn.Linear(dim_in,shapes[0])\n",
    "        self.basis = nn.ModuleList(\n",
    "                        nn.ModuleList(\n",
    "                            nn.Linear(shapes[k],shapes[k+1])\\\n",
    "                            for k in range(len(shapes)-1))\\\n",
    "                            for i in range(n))\n",
    "        self.last = nn.Linear(shapes[-1], dim_out)\n",
    "        self.NL = NL(inplace=True) \n",
    "        self.batch_size = batch_size\n",
    "    \n",
    "    def generate_basis(self):\n",
    "        return self.basis\n",
    "    \n",
    "    def forward(self,i,y):\n",
    "        y_in = y.unsqueeze(0).repeat(self.batch_size,1,1)\n",
    "        y = self.NL(self.first.forward(y_in))\n",
    "        for layer in self.basis[i]:\n",
    "            y = self.NL(layer.forward(y)) \n",
    "        y = self.last.forward(y)\n",
    "        return y\n",
    "    \n",
    "    def basis_size(self):\n",
    "        return self.n"
   ]
  },
  {
   "cell_type": "code",
   "execution_count": null,
   "id": "719e5845",
   "metadata": {},
   "outputs": [],
   "source": [
    "A = basis(3,5)"
   ]
  },
  {
   "cell_type": "code",
   "execution_count": null,
   "id": "91964cbd",
   "metadata": {},
   "outputs": [],
   "source": [
    "B = A.generate_basis()"
   ]
  },
  {
   "cell_type": "code",
   "execution_count": null,
   "id": "d06ce1e2",
   "metadata": {},
   "outputs": [],
   "source": []
  },
  {
   "cell_type": "code",
   "execution_count": null,
   "id": "44899302",
   "metadata": {},
   "outputs": [],
   "source": [
    "len(B)"
   ]
  },
  {
   "cell_type": "code",
   "execution_count": null,
   "id": "d0239d62",
   "metadata": {},
   "outputs": [],
   "source": [
    "A = basis(3,5,batch_size=16)"
   ]
  },
  {
   "cell_type": "code",
   "execution_count": null,
   "id": "cba59d77",
   "metadata": {},
   "outputs": [],
   "source": [
    "A.forward(7,torch.rand(3)).shape"
   ]
  },
  {
   "cell_type": "code",
   "execution_count": null,
   "id": "48916994",
   "metadata": {},
   "outputs": [],
   "source": []
  },
  {
   "cell_type": "code",
   "execution_count": null,
   "id": "1ea128ea",
   "metadata": {},
   "outputs": [],
   "source": [
    "from source.integrators import MonteCarlo"
   ]
  },
  {
   "cell_type": "code",
   "execution_count": null,
   "id": "ce96e049",
   "metadata": {},
   "outputs": [],
   "source": [
    "mc = MonteCarlo()"
   ]
  },
  {
   "cell_type": "code",
   "execution_count": null,
   "id": "143b9099",
   "metadata": {},
   "outputs": [],
   "source": [
    "class F_NN(nn.Module):\n",
    "    def __init__(self,in_dim,out_dim,shapes,NL=nn.ELU):\n",
    "        super(F_NN, self).__init__()\n",
    "        self.in_dim = in_dim\n",
    "        self.out_dim = out_dim\n",
    "        self.n_layers = len(shapes) - 1\n",
    "        self.shapes = shapes\n",
    "        self.first = nn.Linear(in_dim,shapes[0])\n",
    "        self.layers = nn.ModuleList([nn.Linear(shapes[i],shapes[i+1]) for i in range(self.n_layers)])\n",
    "        self.last = nn.Linear(shapes[-1], out_dim)\n",
    "        self.NL = NL(inplace=True) \n",
    "        \n",
    "    def forward(self, y):\n",
    "        y_in = y.unsqueeze(0).repeat(16,1,1)\n",
    "        y = self.NL(self.first.forward(y_in))\n",
    "        for layer in self.layers:\n",
    "            y = self.NL(layer.forward(y))   \n",
    "        y = self.last.forward(y)\n",
    "        return y"
   ]
  },
  {
   "cell_type": "code",
   "execution_count": null,
   "id": "18fc319d",
   "metadata": {},
   "outputs": [],
   "source": []
  },
  {
   "cell_type": "code",
   "execution_count": null,
   "id": "75c1189c",
   "metadata": {},
   "outputs": [],
   "source": [
    "class Leray_Schauder(nn.Module):\n",
    "    def __init__(self,basis,epsilon=.1,dim=1,modes=2,N=1000,p=2,batch_size=8):\n",
    "        super(Leray_Schauder, self).__init__()\n",
    "        self.basis = basis\n",
    "        self.epsilon = epsilon\n",
    "        self.dim = dim\n",
    "        self.modes = modes\n",
    "        self.N = N\n",
    "        self.p = p\n",
    "        self.n = self.basis.basis_size()\n",
    "        self.batch_size = batch_size\n",
    "        \n",
    "    def norm(self,func):\n",
    "        #print(func(torch.rand(1000,3)).shape)\n",
    "        integral = mc.integrate(\n",
    "            fn= lambda s: func(s)**self.p,\n",
    "            dim= self.dim,\n",
    "            N= self.N,\n",
    "            out_dim = -2,\n",
    "            )\n",
    "        return torch.pow(integral,1/self.p)\n",
    "        \n",
    "    def mu_i(self,func,i):\n",
    "        norm_ = torch.norm(self.norm(lambda s: func(s)-self.basis(i,s)),p=self.p,dim=[-1]).to(torch.float64)\n",
    "        norm_ = norm_.unsqueeze(-1)\n",
    "        return torch.where(norm_<=self.epsilon,norm_,0.).float()#norm_ if norm_<= self.epsilon else 0.\n",
    "        \n",
    "    def proj(self,func,x):\n",
    "        out = torch.zeros(self.batch_size,self.modes)\n",
    "        normalization = torch.tensor([1e-7]).unsqueeze(0).repeat(self.batch_size,1)\n",
    "        for i in range(self.n):\n",
    "            mui = self.mu_i(func,i)\n",
    "            out += mui*self.basis.forward(i,x).view(self.batch_size,self.modes)\n",
    "            normalization += mui\n",
    "        out /= normalization\n",
    "        return out\n",
    "    \n",
    "    def proj_coeff(self,func):\n",
    "        out = torch.tensor([])\n",
    "        normalization = torch.tensor([1e-7]).unsqueeze(0).repeat(self.batch_size,1)\n",
    "        for i in range(self.n):\n",
    "            mui = self.mu_i(func,i)\n",
    "            out = torch.cat([out,mui],dim=-1)\n",
    "            normalization += mui\n",
    "        out /= normalization\n",
    "        return out\n",
    "    \n",
    "    def basis_eval(self,i,x):\n",
    "        return self.basis.forward(i,x)\n",
    "    \n",
    "    def return_basis(self):\n",
    "        return self.basis\n",
    "    \n",
    "    def return_modes(self):\n",
    "        return self.modes"
   ]
  },
  {
   "cell_type": "code",
   "execution_count": null,
   "id": "9ebc735a",
   "metadata": {},
   "outputs": [],
   "source": [
    "func = F_NN(3,5,[16,16])"
   ]
  },
  {
   "cell_type": "code",
   "execution_count": null,
   "id": "ad3d6621",
   "metadata": {},
   "outputs": [],
   "source": []
  },
  {
   "cell_type": "code",
   "execution_count": null,
   "id": "6a60787a",
   "metadata": {},
   "outputs": [],
   "source": [
    "LS = Leray_Schauder(A,dim=3,epsilon=2.,modes=5,batch_size=16)"
   ]
  },
  {
   "cell_type": "code",
   "execution_count": null,
   "id": "33d9e1fa",
   "metadata": {
    "scrolled": true
   },
   "outputs": [],
   "source": [
    "LS.mu_i(func,2).shape"
   ]
  },
  {
   "cell_type": "code",
   "execution_count": null,
   "id": "ce2b5d9f",
   "metadata": {},
   "outputs": [],
   "source": [
    "LS.proj(func,torch.rand(3)).shape"
   ]
  },
  {
   "cell_type": "code",
   "execution_count": null,
   "id": "506b7348",
   "metadata": {
    "scrolled": true
   },
   "outputs": [],
   "source": [
    "LS.proj_coeff(func).shape"
   ]
  },
  {
   "cell_type": "code",
   "execution_count": null,
   "id": "9719a567",
   "metadata": {},
   "outputs": [],
   "source": []
  },
  {
   "cell_type": "code",
   "execution_count": null,
   "id": "9545e282",
   "metadata": {},
   "outputs": [],
   "source": []
  },
  {
   "cell_type": "code",
   "execution_count": null,
   "id": "e85be080",
   "metadata": {},
   "outputs": [],
   "source": []
  },
  {
   "cell_type": "code",
   "execution_count": null,
   "id": "d026c2ea",
   "metadata": {},
   "outputs": [],
   "source": [
    "spatial_domain_xy = torch.meshgrid([torch.linspace(0,1,10) for i in range(2)])\n",
    "        \n",
    "x_space = spatial_domain_xy[0].flatten().unsqueeze(-1)\n",
    "y_space = spatial_domain_xy[1].flatten().unsqueeze(-1)\n",
    "\n",
    "spatial_domain = torch.cat([x_space,y_space],-1)"
   ]
  },
  {
   "cell_type": "code",
   "execution_count": null,
   "id": "9fdbe4bc",
   "metadata": {},
   "outputs": [],
   "source": [
    "spatial_domain.shape"
   ]
  },
  {
   "cell_type": "code",
   "execution_count": null,
   "id": "e754eb9f",
   "metadata": {},
   "outputs": [],
   "source": []
  },
  {
   "cell_type": "code",
   "execution_count": null,
   "id": "f96d524c",
   "metadata": {},
   "outputs": [],
   "source": []
  },
  {
   "cell_type": "code",
   "execution_count": null,
   "id": "6569a364",
   "metadata": {},
   "outputs": [],
   "source": [
    "class Leray_Schauder_model(nn.Module):\n",
    "    def __init__(self,LS_map,proj_NN,batch_size=8):\n",
    "        super(Leray_Schauder_model, self).__init__()\n",
    "        self.LS_map = LS_map\n",
    "        self.proj_NN = proj_NN\n",
    "        self.n = LS_map.return_basis().basis_size()\n",
    "        self.basis = LS_map.return_basis()\n",
    "        self.batch_size = batch_size\n",
    "       \n",
    "    def recompose(self,coeff):\n",
    "        func = lambda s: torch.cat([\n",
    "                coeff[i]*self.LS_map.basis_eval(i,s)\\\n",
    "                            .view(self.batch_size,1,self.LS_map.return_modes())\\\n",
    "                            for i in range(self.basis.basis_size())],dim=-2).sum(dim=-2)\n",
    "        return func\n",
    "    \n",
    "    def projected_function(self,func):\n",
    "        projection_coeff = self.LS_map.proj_coeff(func)\n",
    "        out = self.proj_NN.forward(projection_coeff)\n",
    "        out_func = self.recompose(out)\n",
    "        \n",
    "        return out_func"
   ]
  },
  {
   "cell_type": "code",
   "execution_count": null,
   "id": "8b12f8a8",
   "metadata": {},
   "outputs": [],
   "source": []
  },
  {
   "cell_type": "code",
   "execution_count": null,
   "id": "331dff00",
   "metadata": {},
   "outputs": [],
   "source": [
    "NN = F_NN(8,8,[16,16])"
   ]
  },
  {
   "cell_type": "code",
   "execution_count": null,
   "id": "69210576",
   "metadata": {},
   "outputs": [],
   "source": [
    "func = F_NN(3,5,[16,16])"
   ]
  },
  {
   "cell_type": "code",
   "execution_count": null,
   "id": "3c8868f6",
   "metadata": {},
   "outputs": [],
   "source": [
    "model = Leray_Schauder_model(LS,NN,batch_size=16)"
   ]
  },
  {
   "cell_type": "code",
   "execution_count": null,
   "id": "34272772",
   "metadata": {},
   "outputs": [],
   "source": [
    "out_func = model.projected_function(func)"
   ]
  },
  {
   "cell_type": "code",
   "execution_count": null,
   "id": "4cc5ca3b",
   "metadata": {},
   "outputs": [],
   "source": [
    "out_func(torch.rand(16,3)).shape"
   ]
  },
  {
   "cell_type": "code",
   "execution_count": null,
   "id": "4b3ba049",
   "metadata": {},
   "outputs": [],
   "source": [
    "out_func(torch.rand(16,3))"
   ]
  },
  {
   "cell_type": "code",
   "execution_count": null,
   "id": "3b2e8de0",
   "metadata": {},
   "outputs": [],
   "source": [
    "torch.rand(5).dtype"
   ]
  },
  {
   "cell_type": "code",
   "execution_count": null,
   "id": "4d067226",
   "metadata": {},
   "outputs": [],
   "source": [
    "x = torch.rand(5,dtype=torch.double)"
   ]
  },
  {
   "cell_type": "code",
   "execution_count": null,
   "id": "0bd581ba",
   "metadata": {},
   "outputs": [],
   "source": [
    "torch.where(x>=0.,x,0.).float()"
   ]
  },
  {
   "cell_type": "code",
   "execution_count": null,
   "id": "a8769a7d",
   "metadata": {},
   "outputs": [],
   "source": []
  }
 ],
 "metadata": {
  "kernelspec": {
   "display_name": "Python 3",
   "language": "python",
   "name": "python3"
  },
  "language_info": {
   "codemirror_mode": {
    "name": "ipython",
    "version": 3
   },
   "file_extension": ".py",
   "mimetype": "text/x-python",
   "name": "python",
   "nbconvert_exporter": "python",
   "pygments_lexer": "ipython3",
   "version": "3.8.8"
  },
  "toc": {
   "base_numbering": 1,
   "nav_menu": {},
   "number_sections": true,
   "sideBar": true,
   "skip_h1_title": false,
   "title_cell": "Table of Contents",
   "title_sidebar": "Contents",
   "toc_cell": false,
   "toc_position": {},
   "toc_section_display": true,
   "toc_window_display": false
  }
 },
 "nbformat": 4,
 "nbformat_minor": 5
}
