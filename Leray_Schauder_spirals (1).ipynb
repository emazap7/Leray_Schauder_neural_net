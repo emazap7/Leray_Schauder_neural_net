{
 "cells": [
  {
   "cell_type": "code",
   "execution_count": 1,
   "id": "40926f40-ebb5-4ec1-b5b6-b9e892ab5eca",
   "metadata": {
    "tags": []
   },
   "outputs": [
    {
     "name": "stdout",
     "output_type": "stream",
     "text": [
      "\n",
      "     active environment : base\n",
      "    active env location : /lfs/emanuelezappala.isu/miniconda3\n",
      "            shell level : 1\n",
      "       user config file : /lfs/emanuelezappala.isu/.condarc\n",
      " populated config files : \n",
      "          conda version : 23.3.1\n",
      "    conda-build version : not installed\n",
      "         python version : 3.8.16.final.0\n",
      "       virtual packages : __archspec=1=x86_64\n",
      "                          __cuda=12.4=0\n",
      "                          __glibc=2.28=0\n",
      "                          __linux=4.18.0=0\n",
      "                          __unix=0=0\n",
      "       base environment : /lfs/emanuelezappala.isu/miniconda3  (writable)\n",
      "      conda av data dir : /lfs/emanuelezappala.isu/miniconda3/etc/conda\n",
      "  conda av metadata url : None\n",
      "           channel URLs : https://repo.anaconda.com/pkgs/main/linux-64\n",
      "                          https://repo.anaconda.com/pkgs/main/noarch\n",
      "                          https://repo.anaconda.com/pkgs/r/linux-64\n",
      "                          https://repo.anaconda.com/pkgs/r/noarch\n",
      "          package cache : /lfs/emanuelezappala.isu/miniconda3/pkgs\n",
      "                          /lfs/emanuelezappala.isu/.conda/pkgs\n",
      "       envs directories : /lfs/emanuelezappala.isu/miniconda3/envs\n",
      "                          /lfs/emanuelezappala.isu/.conda/envs\n",
      "               platform : linux-64\n",
      "             user-agent : conda/23.3.1 requests/2.31.0 CPython/3.8.16 Linux/4.18.0-553.8.1.el8_10.x86_64 rocky/8.10 glibc/2.28\n",
      "                UID:GID : 10152:10152\n",
      "             netrc file : None\n",
      "           offline mode : False\n",
      "\n"
     ]
    }
   ],
   "source": [
    "!conda info"
   ]
  },
  {
   "cell_type": "code",
   "execution_count": null,
   "id": "4a66d6e2-9466-4572-9456-b23ed53a1e44",
   "metadata": {
    "tags": []
   },
   "outputs": [],
   "source": []
  },
  {
   "cell_type": "code",
   "execution_count": null,
   "id": "222c3926-be12-402d-bc9c-88c5bea431dc",
   "metadata": {
    "tags": []
   },
   "outputs": [],
   "source": []
  },
  {
   "cell_type": "code",
   "execution_count": 2,
   "id": "ff9f477a-a9da-419e-a1b1-ebe9e501bb41",
   "metadata": {
    "tags": []
   },
   "outputs": [
    {
     "data": {
      "text/plain": [
       "True"
      ]
     },
     "execution_count": 2,
     "metadata": {},
     "output_type": "execute_result"
    }
   ],
   "source": [
    "import torch\n",
    "torch.cuda.is_available()"
   ]
  },
  {
   "cell_type": "code",
   "execution_count": null,
   "id": "cb3aa60a-2aee-478c-9a93-0c06adb33310",
   "metadata": {},
   "outputs": [],
   "source": []
  },
  {
   "cell_type": "code",
   "execution_count": 3,
   "id": "90d76574-75c6-4304-8837-e716a53d4f01",
   "metadata": {
    "tags": []
   },
   "outputs": [
    {
     "data": {
      "text/plain": [
       "_StoreAction(option_strings=['--experiment_name'], dest='experiment_name', nargs=None, const=None, default=None, type=None, choices=None, required=False, help='', metavar=None)"
      ]
     },
     "execution_count": 3,
     "metadata": {},
     "output_type": "execute_result"
    }
   ],
   "source": [
    "import logging\n",
    "import warnings\n",
    "from typing import Callable, Optional, Union\n",
    "import os, argparse\n",
    "\n",
    "import numpy as np\n",
    "import torch\n",
    "\n",
    "from scipy import integrate\n",
    "import time\n",
    "import pickle\n",
    "from torch.utils.data import Dataset\n",
    "\n",
    "logger = logging.getLogger(\"iesolver\")\n",
    "logger.setLevel(logging.WARNING)#(logging.DEBUG)\n",
    "\n",
    "import matplotlib.pyplot as plt\n",
    "\n",
    "\n",
    "import torchcubicspline\n",
    "from torchcubicspline import(natural_cubic_spline_coeffs, \n",
    "                             NaturalCubicSpline)\n",
    "                             \n",
    "#from torchdiffeq import odeint\n",
    "\n",
    "\n",
    "from source.integrators import MonteCarlo \n",
    "mc = MonteCarlo()\n",
    "\n",
    "from source.model import F_NN, basis, Leray_Schauder, Leray_Schauder_model, interpolated_func, Simple_NN\n",
    "\n",
    "from source.utils import fix_random_seeds,to_np\n",
    "\n",
    "if torch.cuda.is_available():  \n",
    "    device = \"cuda:0\" \n",
    "else:  \n",
    "    device = \"cpu\"\n",
    "   \n",
    "    \n",
    "parser = argparse.ArgumentParser(description='Leray_Schauder')\n",
    "parser.add_argument('-root_path', metavar='DIR', default='',\n",
    "                    help='path to dataset')\n",
    "parser.add_argument('-dataset-name', default='stl10',\n",
    "                    help='dataset name', choices=['acrobot_dataset'])\n",
    "\n",
    "parser.add_argument('-j', '--workers', default=12, type=int, metavar='N',\n",
    "                    help='number of data loading workers (default: 32)')\n",
    "parser.add_argument('--epochs', default=3000, type=int, metavar='N',\n",
    "                    help='number of total epochs to run')\n",
    "parser.add_argument('-b', '--batch_size', default=20, type=int,\n",
    "                    metavar='N',\n",
    "                    help='mini-batch size (default: 256), this is the total '\n",
    "                         'batch size of all GPUs on the current node when '\n",
    "                         'using Data Parallel or Distributed Data Parallel')\n",
    "parser.add_argument('--lr', '--learning-rate', default=1e-4, type=float,\n",
    "                    metavar='LR', help='initial learning rate', dest='lr')\n",
    "parser.add_argument('--wd', '--weight-decay', default=1e-4, type=float,\n",
    "                    metavar='W', help='weight decay (default: 1e-4)',\n",
    "                    dest='weight_decay')\n",
    "parser.add_argument('--seed', default=None, type=int,\n",
    "                    help='seed for initializing training. ')\n",
    "parser.add_argument('--disable-cuda', action='store_true',\n",
    "                    help='Disable CUDA')\n",
    "parser.add_argument('--fp16-precision', action='store_true',\n",
    "                    help='Whether or not to use 16-bit precision GPU training.')\n",
    "\n",
    "parser.add_argument('--out_dim', default=128, type=int,\n",
    "                    help='feature dimension (default: 128)')\n",
    "parser.add_argument('--log-every-n-steps', default=100, type=int,\n",
    "                    help='Log every n steps')\n",
    "parser.add_argument('--temperature', default=0.07, type=float,\n",
    "                    help='softmax temperature (default: 0.07)')\n",
    "parser.add_argument('--n-views', default=2, type=int, metavar='N',\n",
    "                    help='Number of views for contrastive learning training.')\n",
    "parser.add_argument('--gpu-index', default=0, type=int, help='Gpu index.')\n",
    "parser.add_argument('--model', default='simclr', choices=['simclr','lipschitz_simclr','vae','gan'], \n",
    "                    help='Models to be used')\n",
    "parser.add_argument('--mode', default='train', choices=['train','evaluate'], \n",
    "                    help='Set to ''evaluate'' if inference is desired')\n",
    "parser.add_argument('--training_split', default=0.25,type=float, \n",
    "                    help='Fraction of the samples that will be used for validation')\n",
    "parser.add_argument('--resume_from_checkpoint', default=None, \n",
    "                    help='Give string to run number. Ex: \"run12\"')\n",
    "parser.add_argument('--plot_freq', default=1, type=int,help='')\n",
    "parser.add_argument('--experiment_name', default=None,help='')\n",
    "    \n",
    "    "
   ]
  },
  {
   "cell_type": "code",
   "execution_count": 4,
   "id": "564be63d-d0ba-43c6-984d-dcd31cef4dee",
   "metadata": {
    "tags": []
   },
   "outputs": [],
   "source": [
    "import math\n",
    "import numpy as np\n",
    "from IPython.display import clear_output\n",
    "from tqdm import tqdm_notebook as tqdm\n",
    "\n",
    "import matplotlib as mpl\n",
    "import matplotlib.pyplot as plt\n",
    "%matplotlib inline\n",
    "import seaborn as sns\n",
    "sns.color_palette(\"bright\")\n",
    "import matplotlib as mpl\n",
    "import matplotlib.cm as cm\n",
    "\n",
    "import torch\n",
    "from torch import Tensor\n",
    "from torch import nn\n",
    "from torch.nn  import functional as F\n",
    "from torch.autograd import Variable\n",
    "\n",
    "from source.experiments import experiment\n",
    "\n",
    "use_cuda = torch.cuda.is_available()"
   ]
  },
  {
   "cell_type": "code",
   "execution_count": null,
   "id": "2125d837-0986-4f7e-88a1-b15caf610465",
   "metadata": {},
   "outputs": [],
   "source": []
  },
  {
   "cell_type": "code",
   "execution_count": 5,
   "id": "0fff2d1a-05da-42a6-b8cc-17d9992de3c5",
   "metadata": {
    "tags": []
   },
   "outputs": [
    {
     "data": {
      "text/plain": [
       "True"
      ]
     },
     "execution_count": 5,
     "metadata": {},
     "output_type": "execute_result"
    }
   ],
   "source": [
    "use_cuda"
   ]
  },
  {
   "cell_type": "code",
   "execution_count": 6,
   "id": "ee4048ae-47a8-4f25-ab1e-5ac38f582463",
   "metadata": {
    "tags": []
   },
   "outputs": [],
   "source": [
    "from functools import reduce\n",
    "import random\n",
    "import pickle\n",
    "import time"
   ]
  },
  {
   "cell_type": "code",
   "execution_count": 7,
   "id": "355198b8-4a67-4f1c-9679-51193ac16939",
   "metadata": {
    "tags": []
   },
   "outputs": [],
   "source": [
    "args = parser.parse_args(\"\")\n",
    "args.model='Leray_Schauder'\n",
    "args.mode='train'\n",
    "args.mode='evaluate'\n",
    "args.dataset_name = 'integral_equations'\n",
    "args.seed = 7\n",
    "args.experiment_name = 'IE_spirals'\n",
    "args.plot_freq = 50\n",
    "args.device = device\n",
    "args.num_dim_plot = 2\n",
    "args.lr = 1e-3\n",
    "args.min_lr=1e-7\n",
    "args.T_max = 101\n",
    "args.plat_patience = 10\n",
    "args.factor = 0.1\n",
    "# args.temperature=0.001\n",
    "#args.lr_scheduler = 'ReduceLROnPlateau'\n",
    "args.lr_scheduler = 'CosineAnnealingLR'\n",
    "args.resume_from_checkpoint = 'run64' #64,63 (64 no interpolation, 63 interpolation)\n",
    "fix_random_seeds(args.seed)\n",
    "args.perturbation_to_obs0=None\n",
    "args.training_split=0.2\n",
    "args.smoothing_factor= .5\n",
    "if args.mode == 'train':\n",
    "    args.n_batch = 16\n",
    "else:\n",
    "    args.n_batch = 1\n",
    "args.n_basis = 8 #8\n",
    "args.patience =  200\n",
    "args.support_tensors=False\n",
    "args.support_test=False\n",
    "args.dim = 1\n",
    "args.time_points = 100\n",
    "#args.f_nn = True\n",
    "args.max_iterations = 3\n",
    "args.interpolation = False\n",
    "args.channels = 16 #16\n",
    "if args.mode == 'train':\n",
    "    args.N_MC = 1000\n",
    "else:\n",
    "    args.N_MC = 5000\n",
    "if args.interpolation and args.mode=='train':\n",
    "    args.downsample = 25\n",
    "else:\n",
    "    args.downsample = 50\n",
    "args.plot_train = False"
   ]
  },
  {
   "cell_type": "code",
   "execution_count": 8,
   "id": "6219e9a7-510b-4e39-9213-2dfcfc21b092",
   "metadata": {},
   "outputs": [
    {
     "name": "stdout",
     "output_type": "stream",
     "text": [
      "50\n"
     ]
    }
   ],
   "source": [
    "print(args.downsample)"
   ]
  },
  {
   "cell_type": "code",
   "execution_count": null,
   "id": "63208534-fbcc-4a9b-9d65-237e775cc5dd",
   "metadata": {},
   "outputs": [],
   "source": []
  },
  {
   "cell_type": "code",
   "execution_count": null,
   "id": "21ef5db4-3740-4e7c-9c0b-bac369bd95a7",
   "metadata": {},
   "outputs": [],
   "source": []
  },
  {
   "cell_type": "code",
   "execution_count": null,
   "id": "1236054c-a68f-4969-94b3-252a2fa618aa",
   "metadata": {},
   "outputs": [],
   "source": []
  },
  {
   "cell_type": "code",
   "execution_count": 9,
   "id": "453572a8-92c5-4672-9eae-5a3a7eb2ae11",
   "metadata": {
    "tags": []
   },
   "outputs": [],
   "source": [
    "Data = pickle.load(open(\"50_IE_Spirals.pkl\",\"rb\"))\n",
    "Data = Data.to(device).detach()"
   ]
  },
  {
   "cell_type": "code",
   "execution_count": null,
   "id": "616e428c-428e-4d54-a74a-20b30bdf2012",
   "metadata": {},
   "outputs": [],
   "source": []
  },
  {
   "cell_type": "code",
   "execution_count": null,
   "id": "26c59581-d844-4d96-9074-d66f5160039d",
   "metadata": {},
   "outputs": [],
   "source": []
  },
  {
   "cell_type": "code",
   "execution_count": null,
   "id": "8420c780-8ed2-4803-8430-942d90b21c47",
   "metadata": {
    "tags": []
   },
   "outputs": [],
   "source": []
  },
  {
   "cell_type": "code",
   "execution_count": null,
   "id": "7f0001c1-a020-438c-9786-cc271d7b0559",
   "metadata": {
    "tags": []
   },
   "outputs": [],
   "source": []
  },
  {
   "cell_type": "code",
   "execution_count": null,
   "id": "a5e67f13-ace5-482a-b74f-51d78bb5b436",
   "metadata": {},
   "outputs": [],
   "source": []
  },
  {
   "cell_type": "code",
   "execution_count": 10,
   "id": "9e83efd0-c614-4155-9b29-49d2ad973e7a",
   "metadata": {},
   "outputs": [],
   "source": [
    "if args.mode == 'train':\n",
    "    Data = Data[:-96,...].to(device)\n",
    "if args.mode == 'evaluate':\n",
    "    Data = Data[-96:,...].to(device)"
   ]
  },
  {
   "cell_type": "code",
   "execution_count": 11,
   "id": "53f3ed40-c9e0-4df0-bad4-5e29f372443b",
   "metadata": {},
   "outputs": [],
   "source": [
    "if args.interpolation and args.mode=='train':\n",
    "    print(\"Interpolation is on\")\n",
    "    Data = Data[:,::2,:]"
   ]
  },
  {
   "cell_type": "code",
   "execution_count": null,
   "id": "33192677-80d9-4552-949d-a90d4de58f53",
   "metadata": {},
   "outputs": [],
   "source": []
  },
  {
   "cell_type": "code",
   "execution_count": 12,
   "id": "1de54bd0-b468-4d06-8073-534ea731a616",
   "metadata": {},
   "outputs": [
    {
     "data": {
      "text/plain": [
       "torch.Size([96, 100, 2])"
      ]
     },
     "execution_count": 12,
     "metadata": {},
     "output_type": "execute_result"
    }
   ],
   "source": [
    "Data.shape"
   ]
  },
  {
   "cell_type": "code",
   "execution_count": 13,
   "id": "d7fa85d0-d5aa-413b-9cab-b7f3cc06c212",
   "metadata": {
    "tags": []
   },
   "outputs": [],
   "source": [
    "args.ts_integration = None"
   ]
  },
  {
   "cell_type": "code",
   "execution_count": null,
   "id": "d428f421-006f-4b25-8e07-fca522e3e87f",
   "metadata": {},
   "outputs": [],
   "source": []
  },
  {
   "cell_type": "code",
   "execution_count": null,
   "id": "afd80d62-e724-4b49-96c8-cab5bbb2dbcc",
   "metadata": {
    "tags": []
   },
   "outputs": [],
   "source": []
  },
  {
   "cell_type": "code",
   "execution_count": 14,
   "id": "e77342bc-58ae-4889-8771-766b7d84dab0",
   "metadata": {
    "tags": []
   },
   "outputs": [],
   "source": [
    "times = torch.linspace(-1,1,100).to(device)"
   ]
  },
  {
   "cell_type": "code",
   "execution_count": 15,
   "id": "f4ac3f4c-7eb0-4811-b91b-207f70c4bc21",
   "metadata": {},
   "outputs": [],
   "source": [
    "if args.interpolation and args.mode=='train':\n",
    "    print(\"Interpolation is on\")\n",
    "    times = times[::2]"
   ]
  },
  {
   "cell_type": "code",
   "execution_count": null,
   "id": "5495031d-fd59-4807-8d5a-3d9d0c58e77d",
   "metadata": {
    "tags": []
   },
   "outputs": [],
   "source": []
  },
  {
   "cell_type": "code",
   "execution_count": null,
   "id": "801869f5-3403-4f51-a302-c3d6ac70637a",
   "metadata": {},
   "outputs": [],
   "source": []
  },
  {
   "cell_type": "code",
   "execution_count": 16,
   "id": "7617fcd9-f6d9-4339-8fba-d1e2a1a50609",
   "metadata": {},
   "outputs": [
    {
     "data": {
      "text/plain": [
       "torch.Size([100])"
      ]
     },
     "execution_count": 16,
     "metadata": {},
     "output_type": "execute_result"
    }
   ],
   "source": [
    "times.shape"
   ]
  },
  {
   "cell_type": "code",
   "execution_count": null,
   "id": "ca17b51d-dba0-427b-9c09-fb5912826fac",
   "metadata": {},
   "outputs": [],
   "source": []
  },
  {
   "cell_type": "code",
   "execution_count": 17,
   "id": "b61ac1a8-ba01-4167-83c3-c5e6998d3641",
   "metadata": {},
   "outputs": [],
   "source": [
    "epsilon = 2. #2."
   ]
  },
  {
   "cell_type": "code",
   "execution_count": 18,
   "id": "1d50366f-ffb5-468e-9668-b7258cb78b21",
   "metadata": {},
   "outputs": [],
   "source": [
    "Basis = basis(args.dim,args.channels,n=args.n_basis,shapes=[100,100,100],batch_size=args.n_batch).to(device)#[100,100,100]"
   ]
  },
  {
   "cell_type": "code",
   "execution_count": 19,
   "id": "0560d5de-c3cd-43f1-a0f7-ab795fe01a46",
   "metadata": {},
   "outputs": [
    {
     "name": "stderr",
     "output_type": "stream",
     "text": [
      "/lfs/emanuelezappala.isu/miniconda3/envs/Spectr/lib/python3.10/site-packages/torch/functional.py:478: UserWarning: torch.meshgrid: in an upcoming release, it will be required to pass the indexing argument. (Triggered internally at  /opt/conda/conda-bld/pytorch_1656352645774/work/aten/src/ATen/native/TensorShape.cpp:2894.)\n",
      "  return _VF.meshgrid(tensors, **kwargs)  # type: ignore[attr-defined]\n"
     ]
    }
   ],
   "source": [
    "LS = Leray_Schauder(Basis,dim=args.dim,channels=args.channels,epsilon=epsilon,N=args.N_MC,batch_size=args.n_batch,softmax=False).to(device)"
   ]
  },
  {
   "cell_type": "code",
   "execution_count": 20,
   "id": "c295cf76-0a30-4d44-aa95-0e3da6fcd356",
   "metadata": {
    "tags": []
   },
   "outputs": [],
   "source": [
    "proj_operator = F_NN(args.n_basis*args.channels,args.n_basis*args.channels, [100,100]).to(device)#[100,100]"
   ]
  },
  {
   "cell_type": "code",
   "execution_count": null,
   "id": "08ac327b-0a08-4b27-9542-c916ddff7083",
   "metadata": {
    "tags": []
   },
   "outputs": [],
   "source": []
  },
  {
   "cell_type": "code",
   "execution_count": 21,
   "id": "7cd11c1a-2779-4289-845d-0af5c29ab00e",
   "metadata": {
    "tags": []
   },
   "outputs": [],
   "source": [
    "model = Leray_Schauder_model(LS,proj_operator,batch_size=args.n_batch).to(device)"
   ]
  },
  {
   "cell_type": "code",
   "execution_count": 22,
   "id": "5516520e-b174-43a4-bd54-c920a0df22bc",
   "metadata": {},
   "outputs": [],
   "source": [
    "args.decoder = Simple_NN(args.channels,2,[100,100]).to(device)"
   ]
  },
  {
   "cell_type": "code",
   "execution_count": null,
   "id": "268ddfb8-0438-4ad2-9c6b-6ad5af5d220a",
   "metadata": {},
   "outputs": [],
   "source": []
  },
  {
   "cell_type": "code",
   "execution_count": null,
   "id": "d035b716-3f9d-43fb-9876-7ff5242392d9",
   "metadata": {},
   "outputs": [],
   "source": []
  },
  {
   "cell_type": "code",
   "execution_count": 23,
   "id": "677b6343-2b26-4279-8043-e57d160f705b",
   "metadata": {
    "tags": []
   },
   "outputs": [],
   "source": [
    "p_shapes = []\n",
    "flat_parameters = []\n",
    "for p in model.parameters():\n",
    "    p_shapes.append(p.size())\n",
    "    flat_parameters.append(p.flatten())\n",
    "all_parameters = torch.cat(flat_parameters)"
   ]
  },
  {
   "cell_type": "code",
   "execution_count": 24,
   "id": "f5ec04ae-7f01-4f1a-9321-e552d49616bd",
   "metadata": {
    "tags": []
   },
   "outputs": [
    {
     "data": {
      "text/plain": [
       "torch.Size([212056])"
      ]
     },
     "execution_count": 24,
     "metadata": {},
     "output_type": "execute_result"
    }
   ],
   "source": [
    "all_parameters.shape"
   ]
  },
  {
   "cell_type": "code",
   "execution_count": 25,
   "id": "68f31da9-991a-4742-b92b-94a90c8670a0",
   "metadata": {
    "tags": []
   },
   "outputs": [],
   "source": [
    "p_shapes = []\n",
    "flat_parameters = []\n",
    "for p in args.decoder.parameters():\n",
    "    p_shapes.append(p.size())\n",
    "    flat_parameters.append(p.flatten())\n",
    "all_parameters = torch.cat(flat_parameters)"
   ]
  },
  {
   "cell_type": "code",
   "execution_count": null,
   "id": "1fc06ea1-e547-4748-be1f-c51a691bb9b6",
   "metadata": {},
   "outputs": [],
   "source": []
  },
  {
   "cell_type": "code",
   "execution_count": null,
   "id": "c5d393c2-c48b-499d-a7c7-34b87e14fa12",
   "metadata": {},
   "outputs": [],
   "source": []
  },
  {
   "cell_type": "code",
   "execution_count": 26,
   "id": "50c28471-ce91-4876-a366-7a4e7befe40a",
   "metadata": {},
   "outputs": [
    {
     "data": {
      "text/plain": [
       "torch.Size([100])"
      ]
     },
     "execution_count": 26,
     "metadata": {},
     "output_type": "execute_result"
    }
   ],
   "source": [
    "times.shape"
   ]
  },
  {
   "cell_type": "code",
   "execution_count": null,
   "id": "d9127f97-c0f5-46f0-86b8-e2e927fca90e",
   "metadata": {
    "scrolled": true,
    "tags": []
   },
   "outputs": [],
   "source": []
  },
  {
   "cell_type": "code",
   "execution_count": null,
   "id": "d429b848-2aeb-4c07-8cb5-41dd6e00d6c0",
   "metadata": {
    "tags": []
   },
   "outputs": [],
   "source": []
  },
  {
   "cell_type": "code",
   "execution_count": null,
   "id": "52683516-c898-4d04-a037-31d56201ab30",
   "metadata": {},
   "outputs": [],
   "source": []
  },
  {
   "cell_type": "code",
   "execution_count": null,
   "id": "ba47f4bb-f6b5-46f6-93fc-7e1e37c4b520",
   "metadata": {},
   "outputs": [],
   "source": []
  },
  {
   "cell_type": "code",
   "execution_count": 27,
   "id": "23c9161c-5ca5-42d4-870b-008bc2d4fdcd",
   "metadata": {
    "scrolled": true,
    "tags": []
   },
   "outputs": [
    {
     "name": "stdout",
     "output_type": "stream",
     "text": [
      "Loading  Leray_Schauder/IE_spirals/run64/model\n",
      "Running in evaluation mode\n"
     ]
    },
    {
     "data": {
      "application/vnd.jupyter.widget-view+json": {
       "model_id": "34e88aecf7bb4bcc8ecc19f4987ca0a0",
       "version_major": 2,
       "version_minor": 0
      },
      "text/plain": [
       "  0%|          | 0/96 [00:00<?, ?it/s]"
      ]
     },
     "metadata": {},
     "output_type": "display_data"
    },
    {
     "name": "stderr",
     "output_type": "stream",
     "text": [
      "/lfs/emanuelezappala.isu/miniconda3/envs/Spectr/lib/python3.10/site-packages/torchcubicspline/interpolate.py:277: UserWarning: torch.searchsorted(): boundary tensor is non-contiguous, this will lower the performance due to extra data copy when converting non-contiguous tensor to contiguous, please use contiguous boundary tensor if possible. This message will only appear once per program. (Triggered internally at  /opt/conda/conda-bld/pytorch_1656352645774/work/aten/src/ATen/native/BucketizationUtils.h:39.)\n",
      "  index = torch.bucketize(t.detach(), self._t) - 1\n"
     ]
    },
    {
     "data": {
      "text/plain": [
       "(0.0010649741255595775, tensor(0.0005))"
      ]
     },
     "execution_count": 27,
     "metadata": {},
     "output_type": "execute_result"
    }
   ],
   "source": [
    "experiment(model, Data, times, args)"
   ]
  },
  {
   "cell_type": "code",
   "execution_count": null,
   "id": "c4c01b8d-b180-4cfa-8549-7b3dabf20bc3",
   "metadata": {},
   "outputs": [],
   "source": []
  },
  {
   "cell_type": "code",
   "execution_count": null,
   "id": "eb5901f1-3a5b-405c-9f52-1d8b497511db",
   "metadata": {},
   "outputs": [],
   "source": []
  },
  {
   "cell_type": "code",
   "execution_count": null,
   "id": "b417993f-a388-4f42-a0d5-664d3fd5e692",
   "metadata": {},
   "outputs": [],
   "source": []
  },
  {
   "cell_type": "code",
   "execution_count": null,
   "id": "3445b930-8f80-40e1-bb97-84b6c7963a50",
   "metadata": {},
   "outputs": [],
   "source": []
  },
  {
   "cell_type": "code",
   "execution_count": null,
   "id": "5f377b8b-fe20-4bc4-bcaf-63432e7c77d2",
   "metadata": {},
   "outputs": [],
   "source": []
  },
  {
   "cell_type": "code",
   "execution_count": null,
   "id": "f7028552-682e-48dd-8d98-ba368dc64f92",
   "metadata": {},
   "outputs": [],
   "source": []
  },
  {
   "cell_type": "code",
   "execution_count": null,
   "id": "369ad785-778d-4726-bf89-bb98afe38198",
   "metadata": {
    "scrolled": true
   },
   "outputs": [],
   "source": []
  },
  {
   "cell_type": "code",
   "execution_count": null,
   "id": "217bcaa5-f858-4b5c-a6a3-02ccf4dd3d1e",
   "metadata": {},
   "outputs": [],
   "source": []
  },
  {
   "cell_type": "code",
   "execution_count": null,
   "id": "79c73126-bc15-44d4-b26d-e39cd158c214",
   "metadata": {},
   "outputs": [],
   "source": []
  }
 ],
 "metadata": {
  "kernelspec": {
   "display_name": "spectrometry_kernel",
   "language": "python",
   "name": "spectrometry_kernel"
  },
  "language_info": {
   "codemirror_mode": {
    "name": "ipython",
    "version": 3
   },
   "file_extension": ".py",
   "mimetype": "text/x-python",
   "name": "python",
   "nbconvert_exporter": "python",
   "pygments_lexer": "ipython3",
   "version": "3.10.9"
  }
 },
 "nbformat": 4,
 "nbformat_minor": 5
}
